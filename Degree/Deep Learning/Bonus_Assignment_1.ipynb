{
 "cells": [
  {
   "cell_type": "markdown",
   "metadata": {},
   "source": [
    "# California Housing Dataset"
   ]
  },
  {
   "cell_type": "code",
   "execution_count": 79,
   "metadata": {},
   "outputs": [
    {
     "data": {
      "text/plain": [
       "<torch._C.Generator at 0x12eeb3ee330>"
      ]
     },
     "execution_count": 79,
     "metadata": {},
     "output_type": "execute_result"
    }
   ],
   "source": [
    "import numpy as np\n",
    "\n",
    "from sklearn.datasets import fetch_california_housing\n",
    "from sklearn.model_selection import train_test_split\n",
    "from sklearn.preprocessing import StandardScaler\n",
    "\n",
    "import torch\n",
    "import torch.nn as nn\n",
    "import torch.nn.functional as F\n",
    "import torch.optim as optim\n",
    "\n",
    "random_seed = 42\n",
    "torch.manual_seed(random_seed)"
   ]
  },
  {
   "cell_type": "code",
   "execution_count": 80,
   "metadata": {},
   "outputs": [
    {
     "data": {
      "text/plain": [
       "((20640, 8), (20640,))"
      ]
     },
     "execution_count": 80,
     "metadata": {},
     "output_type": "execute_result"
    }
   ],
   "source": [
    "# Load the dataset\n",
    "X, y = fetch_california_housing(return_X_y=True)\n",
    "X.shape, y.shape"
   ]
  },
  {
   "cell_type": "code",
   "execution_count": 81,
   "metadata": {},
   "outputs": [
    {
     "data": {
      "text/plain": [
       "((16512, 8), (4128, 8), (16512,), (4128,))"
      ]
     },
     "execution_count": 81,
     "metadata": {},
     "output_type": "execute_result"
    }
   ],
   "source": [
    "# Split the dataset, 20% for testing, with random seed\n",
    "X_train, X_test, y_train, y_test = train_test_split(X, y, test_size=0.2, random_state=random_seed)\n",
    "X_train.shape, X_test.shape, y_train.shape, y_test.shape"
   ]
  },
  {
   "cell_type": "code",
   "execution_count": 82,
   "metadata": {},
   "outputs": [
    {
     "data": {
      "text/plain": [
       "((16512, 8),\n",
       " (4128, 8),\n",
       " np.float64(-0.9211376319711084),\n",
       " np.float64(0.6044549279675977))"
      ]
     },
     "execution_count": 82,
     "metadata": {},
     "output_type": "execute_result"
    }
   ],
   "source": [
    "# Standardize the data using StandardScaler\n",
    "scaler = StandardScaler()\n",
    "X_train = scaler.fit_transform(X_train)\n",
    "X_test = scaler.transform(X_test)\n",
    "\n",
    "last_test = X_test[-1]\n",
    "\n",
    "X_train.shape, X_test.shape, np.min(last_test), np.max(last_test)"
   ]
  },
  {
   "cell_type": "code",
   "execution_count": 83,
   "metadata": {},
   "outputs": [
    {
     "data": {
      "text/plain": [
       "(torch.Size([16512, 8]),\n",
       " torch.Size([16512, 1]),\n",
       " torch.Size([4128, 8]),\n",
       " torch.Size([4128, 1]))"
      ]
     },
     "execution_count": 83,
     "metadata": {},
     "output_type": "execute_result"
    }
   ],
   "source": [
    "# Convert the data to PyTorch tensors\n",
    "X_train_tensor = torch.from_numpy(X_train).float()\n",
    "y_train_tensor = torch.from_numpy(y_train).float().reshape(-1, 1)\n",
    "X_test_tensor = torch.from_numpy(X_test).float()\n",
    "y_test_tensor = torch.from_numpy(y_test).float().reshape(-1, 1)\n",
    "\n",
    "X_train_tensor.shape, y_train_tensor.shape, X_test_tensor.shape, y_test_tensor.shape"
   ]
  },
  {
   "cell_type": "code",
   "execution_count": 84,
   "metadata": {},
   "outputs": [],
   "source": [
    "# Defining the model, RegresionANN\n",
    "class RegressionANN(nn.Module):\n",
    "    def __init__(self, input_size=8, hidden_size=16, output_size=1):\n",
    "        super(RegressionANN, self).__init__()\n",
    "        self.input_layer = nn.Linear(input_size, hidden_size)\n",
    "        self.hidden1 = nn.Linear(hidden_size, output_size)\n",
    "    \n",
    "    def forward(self, x):\n",
    "        x = self.input_layer(x)\n",
    "        x = F.relu(self.hidden1(x))\n",
    "        return x"
   ]
  },
  {
   "cell_type": "code",
   "execution_count": 85,
   "metadata": {},
   "outputs": [
    {
     "data": {
      "text/plain": [
       "Parameter containing:\n",
       "tensor([0.2272], requires_grad=True)"
      ]
     },
     "execution_count": 85,
     "metadata": {},
     "output_type": "execute_result"
    }
   ],
   "source": [
    "# Instantiate the model\n",
    "model = RegressionANN()\n",
    "w1, b1, w2, b2 = list(model.parameters())\n",
    "b2"
   ]
  },
  {
   "cell_type": "code",
   "execution_count": 86,
   "metadata": {},
   "outputs": [],
   "source": [
    "# Initialize loss and optimizer\n",
    "criterion = nn.MSELoss()\n",
    "optimizer = optim.Adam(model.parameters(), lr=0.01)"
   ]
  },
  {
   "cell_type": "code",
   "execution_count": 87,
   "metadata": {},
   "outputs": [
    {
     "data": {
      "text/plain": [
       "tensor(4.4983, grad_fn=<MseLossBackward0>)"
      ]
     },
     "execution_count": 87,
     "metadata": {},
     "output_type": "execute_result"
    }
   ],
   "source": [
    "# Running a forward pass\n",
    "y_pred = model(X_train_tensor)\n",
    "loss = criterion(y_pred, y_train_tensor)\n",
    "loss"
   ]
  },
  {
   "cell_type": "code",
   "execution_count": 88,
   "metadata": {},
   "outputs": [
    {
     "name": "stdout",
     "output_type": "stream",
     "text": [
      "Epoch: 10, Loss: 2.22469425201416\n",
      "Epoch: 20, Loss: 0.7730512619018555\n",
      "Epoch: 30, Loss: 0.595940887928009\n",
      "Epoch: 40, Loss: 0.5444602370262146\n",
      "Epoch: 50, Loss: 0.4821970760822296\n",
      "Epoch: 60, Loss: 0.4839205741882324\n",
      "Epoch: 70, Loss: 0.47262129187583923\n",
      "Epoch: 80, Loss: 0.4694801867008209\n",
      "Epoch: 90, Loss: 0.46595755219459534\n",
      "Epoch: 100, Loss: 0.46388015151023865\n"
     ]
    }
   ],
   "source": [
    "# Training the model for 100 epochs\n",
    "epochs = 100\n",
    "for epoch in range(1,epochs+1):\n",
    "    optimizer.zero_grad() # Zero the gradients\n",
    "    y_pred = model(X_train_tensor) # Forward pass\n",
    "    loss = criterion(y_pred, y_train_tensor) # Compute the loss\n",
    "    loss.backward() # Backward pass\n",
    "    optimizer.step() # Update the weights\n",
    "    if epoch % 10 == 0:\n",
    "        print(f'Epoch: {epoch}, Loss: {loss.detach().item()}')"
   ]
  },
  {
   "cell_type": "code",
   "execution_count": 89,
   "metadata": {},
   "outputs": [],
   "source": [
    "# Changing hidden layer size to 64\n",
    "model = RegressionANN(hidden_size=64)\n",
    "w1, b1, w2, b2 = list(model.parameters())"
   ]
  },
  {
   "cell_type": "code",
   "execution_count": 90,
   "metadata": {},
   "outputs": [
    {
     "name": "stdout",
     "output_type": "stream",
     "text": [
      "Epoch: 10, Loss: 1.4502893686294556\n",
      "Epoch: 20, Loss: 0.8866540789604187\n",
      "Epoch: 30, Loss: 0.5856936573982239\n",
      "Epoch: 40, Loss: 0.5078949332237244\n",
      "Epoch: 50, Loss: 0.48694950342178345\n",
      "Epoch: 60, Loss: 0.47141730785369873\n",
      "Epoch: 70, Loss: 0.462691992521286\n",
      "Epoch: 80, Loss: 0.45946013927459717\n",
      "Epoch: 90, Loss: 0.4582115113735199\n",
      "Epoch: 100, Loss: 0.45767083764076233\n"
     ]
    }
   ],
   "source": [
    "# Training the model for 100 epochs\n",
    "epochs = 100\n",
    "optimizer = optim.Adam(model.parameters(), lr=0.01) # Reinitialize the optimizer\n",
    "for epoch in range(1,epochs+1):\n",
    "    optimizer.zero_grad() # Zero the gradients\n",
    "    y_pred = model(X_train_tensor) # Forward pass\n",
    "    loss = criterion(y_pred, y_train_tensor) # Compute the loss\n",
    "    loss.backward() # Backward pass\n",
    "    optimizer.step() # Update the weights\n",
    "    if epoch % 10 == 0:\n",
    "        print(f'Epoch: {epoch}, Loss: {loss.detach().item()}')"
   ]
  },
  {
   "cell_type": "code",
   "execution_count": null,
   "metadata": {},
   "outputs": [],
   "source": []
  }
 ],
 "metadata": {
  "kernelspec": {
   "display_name": "degree_stuff",
   "language": "python",
   "name": "python3"
  },
  "language_info": {
   "codemirror_mode": {
    "name": "ipython",
    "version": 3
   },
   "file_extension": ".py",
   "mimetype": "text/x-python",
   "name": "python",
   "nbconvert_exporter": "python",
   "pygments_lexer": "ipython3",
   "version": "3.10.14"
  }
 },
 "nbformat": 4,
 "nbformat_minor": 2
}
